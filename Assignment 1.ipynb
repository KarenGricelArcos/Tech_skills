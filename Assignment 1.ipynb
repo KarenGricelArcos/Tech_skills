{
 "cells": [
  {
   "cell_type": "markdown",
   "metadata": {},
   "source": [
    "**1.**\n",
    "The radius of a circle is 5.5. Write a script to compute the area of a circle."
   ]
  },
  {
   "cell_type": "markdown",
   "metadata": {},
   "source": [
    "**2.**\n",
    "Write a program where Python prints your name, then print them in reverse order with a comma between them.  Put this in the same cell.    \n",
    "\n",
    "For example:\n",
    "\n",
    "Sophia Barrett    \n",
    "Barrett, Sophia"
   ]
  },
  {
   "cell_type": "markdown",
   "metadata": {},
   "source": [
    "**3.**  Write a program to test if a number is divisible by 5."
   ]
  },
  {
   "cell_type": "markdown",
   "metadata": {},
   "source": [
    "**4.**  What is the output of the following program?  \n",
    "\n",
    "a = 1  \n",
    "b = a * 2  \n",
    "c = 2 * b + 1  \n",
    "print(a)  \n",
    "print(b)  \n",
    "print(c)  "
   ]
  },
  {
   "cell_type": "markdown",
   "metadata": {},
   "source": [
    "**5.**  What is the output of the following program?  \n",
    "\n",
    "a = 2  \n",
    "b = a * 2  \n",
    "c = b ** a  \n",
    "a = c % 2  \n",
    "print(a)  \n",
    "print(b)  \n",
    "print(c)  "
   ]
  },
  {
   "cell_type": "markdown",
   "metadata": {},
   "source": [
    "**6.**    What is the output of the following program?  \n",
    "\n",
    "a = 5  \n",
    "b = a // 2  \n",
    "c = a / 2  \n",
    "a = a % 2  \n",
    "print(a)  \n",
    "print(b)  \n",
    "print(c)  "
   ]
  },
  {
   "cell_type": "markdown",
   "metadata": {},
   "source": [
    "**7.**  Type each of the following commands.  Note each response.    \n",
    "print(\"Hello, world!\")    \n",
    "print(\"Hello\", \"world!\")  \n",
    "print(3)  \n",
    "print(3.0)  \n",
    "print(2 + 3)  \n",
    "print(2.0 + 3.0)  \n",
    "print(2 * 3)  \n",
    "print(2 ** 3)\n",
    "print(7 / 3)  \n",
    "print(7 // 3)  "
   ]
  },
  {
   "cell_type": "markdown",
   "metadata": {},
   "source": [
    "**8.**\n",
    "\n",
    "Create a program with a name and age.  Then have it print out a message addressed to name that tells them the year that they will turn 100 years old."
   ]
  },
  {
   "cell_type": "markdown",
   "metadata": {},
   "source": [
    "**9.**  Create a sequence of numbers from 3 to 19, but increment by 2.  "
   ]
  },
  {
   "cell_type": "markdown",
   "metadata": {},
   "source": [
    "**10.**  Try to solve this problem on your own first, then check your results with python.    \n",
    "  \n",
    "  \n",
    "a = 21\n",
    "b = 10\n",
    "c = 0\n",
    "\n",
    "c = a + b\n",
    "print \"Line 1 - Value of c is \", c\n",
    "\n",
    "c += a\n",
    "print \"Line 2 - Value of c is \", c \n",
    "\n",
    "c *= a\n",
    "print \"Line 3 - Value of c is \", c \n",
    "\n",
    "c /= a \n",
    "print \"Line 4 - Value of c is \", c \n",
    "\n",
    "c  = 2\n",
    "c %= a\n",
    "print \"Line 5 - Value of c is \", c\n",
    "\n",
    "c **= a\n",
    "print \"Line 6 - Value of c is \", c\n",
    "\n",
    "c //= a\n",
    "print \"Line 7 - Value of c is \", c"
   ]
  },
  {
   "cell_type": "code",
   "execution_count": 1,
   "metadata": {},
   "outputs": [
    {
     "name": "stdout",
     "output_type": "stream",
     "text": [
      "94.985\n"
     ]
    }
   ],
   "source": [
    "\n",
    "# 1. The radius of a circle is 5.5. Write a script to compute the area of a circle. \n",
    "\n",
    "p = 3.14\n",
    "radius = 5.5\n",
    "\n",
    "print(p*(radius*radius))\n",
    "\n"
   ]
  },
  {
   "cell_type": "code",
   "execution_count": 2,
   "metadata": {},
   "outputs": [
    {
     "name": "stdout",
     "output_type": "stream",
     "text": [
      "Karen Arcos\n"
     ]
    }
   ],
   "source": [
    "# 2. Write a program where Python prints your name, then print them in reverse order with a comma between them. Put this in the same cell. \n",
    "\n",
    "\n",
    "first = \"Karen \"\n",
    "second = \"Arcos\" \n",
    "print(first + second)  \n"
   ]
  },
  {
   "cell_type": "code",
   "execution_count": 22,
   "metadata": {},
   "outputs": [
    {
     "name": "stdout",
     "output_type": "stream",
     "text": [
      "['Arcos,']\n",
      "['Arcos,', 'Karen']\n"
     ]
    }
   ],
   "source": [
    "last_and_first_name_list=[\"Arcos,\"] \n",
    "print(last_and_first_name_list) \n",
    "last_and_first_name_list.append(\"Karen\")  \n",
    "print(last_and_first_name_list) "
   ]
  },
  {
   "cell_type": "code",
   "execution_count": 1,
   "metadata": {},
   "outputs": [
    {
     "name": "stdout",
     "output_type": "stream",
     "text": [
      "Write any number to see if it is divisible by 5 \n",
      "25\n"
     ]
    },
    {
     "data": {
      "text/plain": [
       "5"
      ]
     },
     "execution_count": 1,
     "metadata": {},
     "output_type": "execute_result"
    }
   ],
   "source": [
    "# 3. Write a program to test if a number is divisible by 5.\n",
    "\n",
    "\n",
    "\n",
    "prompt='Write any number to see if it is divisible by 5 \\n'      \n",
    "\n",
    "divisible=input(prompt)\n",
    "\n",
    "int(int(divisible)/5)  \n",
    "\n",
    " \n",
    "\n",
    "    \n",
    "\n",
    " "
   ]
  },
  {
   "cell_type": "code",
   "execution_count": null,
   "metadata": {},
   "outputs": [],
   "source": [
    "# 4. What is the output of the following program? \n",
    "a = 1\n",
    "b = a * 2\n",
    "c = 2 * b + 1\n",
    "print(a)\n",
    "print(b)\n",
    "print(c) \n"
   ]
  },
  {
   "cell_type": "code",
   "execution_count": null,
   "metadata": {},
   "outputs": [],
   "source": [
    "# 5. What is the output of the following program? \n",
    "a = 2\n",
    "b = a * 2\n",
    "c = b ** a\n",
    "a = c % 2\n",
    "print(a)\n",
    "print(b)\n",
    "print(c) "
   ]
  },
  {
   "cell_type": "code",
   "execution_count": 1,
   "metadata": {},
   "outputs": [
    {
     "name": "stdout",
     "output_type": "stream",
     "text": [
      "Hello, world!\n",
      "Hello world!\n",
      "3\n",
      "3.0\n",
      "Hello, world!\n",
      "Hello world!\n",
      "3\n",
      "3.0\n",
      "5\n",
      "5.0\n",
      "6\n",
      "8\n",
      "2.3333333333333335\n",
      "2\n",
      "5\n"
     ]
    }
   ],
   "source": [
    "  # 7. Type each of the following commands. Note each response.\n",
    "print(\"Hello, world!\")     # print is the language of python which allow us to place any message in it by placing quotation marks and parenthis as we..\n",
    "print(\"Hello\", \"world!\")    # the same that above, also the comma allow us to place two or more messages.\n",
    "print(3)                    # print allow us to see an operant\n",
    "print(3.0)                  # and decimals  # 7. Type each of the following commands. Note each response.\n",
    "print(\"Hello, world!\")     # print is the language of python which allow us to place any message in it by placing quotation marks and parenthis as we..\n",
    "print(\"Hello\", \"world!\")    # the same that above, also the comma allow us to place two or more messages.\n",
    "print(3)                    # print allow us to input a variable and then appears in the as the output.\n",
    "print(3.0)                  # and decimals\n",
    "print(2 + 3)               # with this symbol + (operator), it is used to calculate addition.\n",
    "print(2.0 + 3.0)          # the program also calculate decimals\n",
    "print(2 * 3)             # whith this * symbol, it is used to calculate multilication\n",
    "print(2 ** 3)            # with this operation, it is used to obtain exponentation\n",
    "print(7 / 3)             # This one is the division operator.\n",
    "print(7 // 3)           #Using the floor to obtain an integer number.\n",
    "print(2 + 3)               # with this symbol + (operator), it is used to calculate addition\n"
   ]
  },
  {
   "cell_type": "code",
   "execution_count": 5,
   "metadata": {},
   "outputs": [
    {
     "name": "stdout",
     "output_type": "stream",
     "text": [
      "Tell me the year that you were born, and I will tell you in which year you will be 100 years old\n",
      " 1977\n",
      "2077\n"
     ]
    }
   ],
   "source": [
    "# 8.Create a program with a name and age. Then have it print out a message addressed to name that tells them the year that they will turn 100 years old.\n",
    "\n",
    " name = 'What is your name?\\n'  \n",
    "\n",
    "inp=input(name) \n",
    "\n",
    "prompt='Tell me the year that you were born, and I will tell you in which year you will be 100 years old\\n '  \n",
    "\n",
    "age=input(prompt)     \n",
    "\n",
    "print(int(age)+100)        \n",
    "  \n",
    "  \n",
    " \n",
    "\n"
   ]
  },
  {
   "cell_type": "code",
   "execution_count": 30,
   "metadata": {
    "scrolled": true
   },
   "outputs": [
    {
     "name": "stdout",
     "output_type": "stream",
     "text": [
      "3\n",
      "4\n",
      "5\n",
      "6\n",
      "7\n",
      "8\n",
      "9\n",
      "10\n",
      "11\n",
      "12\n",
      "13\n",
      "14\n",
      "15\n",
      "16\n",
      "17\n",
      "18\n"
     ]
    }
   ],
   "source": [
    "# 9. Create a sequence of numbers from 3 to 19, but increment by 2. \n",
    "y = 0\n",
    "x = 0\n",
    "for x in range(1,17):\n",
    "    if y < 20:\n",
    "        y = x + 2\n",
    "        print (y)   \n",
    "            \n",
    " \n",
    "    \n",
    " \n",
    "\n",
    "\n",
    "\n",
    "  \n",
    "    "
   ]
  },
  {
   "cell_type": "code",
   "execution_count": 33,
   "metadata": {},
   "outputs": [
    {
     "name": "stdout",
     "output_type": "stream",
     "text": [
      "3 5 7 9 11 13 15 17 19 "
     ]
    }
   ],
   "source": [
    "# number 9\n",
    "start, end = 3, 19\n",
    "  \n",
    "# iterating each number in list \n",
    "for num in range(start, end + 2): \n",
    "    \n",
    "      if num % 2 != 0: \n",
    "        print(num, end = \" \") \n"
   ]
  },
  {
   "cell_type": "code",
   "execution_count": 5,
   "metadata": {},
   "outputs": [
    {
     "data": {
      "text/plain": [
       "[3, 5, 7, 9, 11, 13, 15, 17, 19]"
      ]
     },
     "execution_count": 5,
     "metadata": {},
     "output_type": "execute_result"
    }
   ],
   "source": [
    "# number 9 \n",
    "list(range(3, 21, +2)) "
   ]
  },
  {
   "cell_type": "code",
   "execution_count": 5,
   "metadata": {},
   "outputs": [
    {
     "name": "stdout",
     "output_type": "stream",
     "text": [
      "Line 1 - value of c is  31\n",
      "Line 2 - Value of c is 52\n",
      "Line 3 - Value of c is 1092\n",
      "Line 4 - Value of c is 52.0\n",
      "Line 5 - Value of c is 2\n",
      "Line 6 - Value of c is 2097152\n",
      "Line 7 - Value of c is 99864\n"
     ]
    }
   ],
   "source": [
    "# 10. Try to solve this problem on your own first, then check your results with python. \n",
    "\n",
    "a = 21 \n",
    "\n",
    "    \n",
    "b = 10 \n",
    "\n",
    "\n",
    "c = 0 \n",
    "\n",
    "\n",
    "c = (a + b) \n",
    "\n",
    "print(\"Line 1 - value of c is \", c)  \n",
    "\n",
    "c+=a \n",
    "\n",
    "print(\"Line 2 - Value of c is\",  c)   \n",
    "\n",
    "c*=a\n",
    "print(\"Line 3 - Value of c is\", c) \n",
    "\n",
    "c/=a\n",
    "print(\"Line 4 - Value of c is\", c) \n",
    "\n",
    "c= 2 \n",
    "c%=a\n",
    "\n",
    "print(\"Line 5 - Value of c is\", c)  \n",
    "\n",
    "c**=a\n",
    "print(\"Line 6 - Value of c is\", c) \n",
    "\n",
    "c//=a\n",
    "print(\"Line 7 - Value of c is\", c) \n",
    "\n",
    "\n",
    "\n",
    "\n",
    "#print \"Line 1 - Value of c is \", c\n",
    "#c += a print \"Line 2 - Value of c is \", c \n",
    "#c *= a print \"Line 3 - Value of c is \", c \n",
    "#c /= a print \"Line 4 - Value of c is \", c \n",
    "#c = 2 c %= a print \"Line 5 - Value of c is \", c\n",
    "#c **= a print \"Line 6 - Value of c is \", c\n",
    "#c //= a print \"Line 7 - Value of c is \", c\n",
    "\n",
    "\n"
   ]
  },
  {
   "cell_type": "code",
   "execution_count": 7,
   "metadata": {},
   "outputs": [
    {
     "name": "stdout",
     "output_type": "stream",
     "text": [
      "Line 2 - Value of c is 21\n"
     ]
    }
   ],
   "source": [
    "a=21\n",
    "c=0\n",
    "c+=a\n",
    "print(\"Line 2 - Value of c is\", c) \n",
    " "
   ]
  },
  {
   "cell_type": "code",
   "execution_count": 8,
   "metadata": {},
   "outputs": [
    {
     "name": "stdout",
     "output_type": "stream",
     "text": [
      "Line 3 - Value of c is 0\n"
     ]
    }
   ],
   "source": [
    "a=21\n",
    "c=0\n",
    "c*=a \n",
    "print(\"Line 3 - Value of c is\", c) "
   ]
  },
  {
   "cell_type": "code",
   "execution_count": 9,
   "metadata": {},
   "outputs": [
    {
     "name": "stdout",
     "output_type": "stream",
     "text": [
      "Line 4 - Value of c is 0.0\n"
     ]
    }
   ],
   "source": [
    "#c /= a print \"Line 4 - Value of c is \", c \n",
    "a=21\n",
    "c=0\n",
    "c/=a\n",
    "print(\"Line 4 - Value of c is\", c) "
   ]
  },
  {
   "cell_type": "code",
   "execution_count": 10,
   "metadata": {},
   "outputs": [
    {
     "name": "stdout",
     "output_type": "stream",
     "text": [
      "Line 5 - Value of c is 2\n"
     ]
    }
   ],
   "source": [
    "#c = 2 c %= a print \"Line 5 - Value of c is \", c\n",
    "\n",
    "a=21\n",
    "c=0\n",
    "c=2\n",
    "c%=a\n",
    "print(\"Line 5 - Value of c is\", c) "
   ]
  },
  {
   "cell_type": "code",
   "execution_count": 11,
   "metadata": {},
   "outputs": [
    {
     "name": "stdout",
     "output_type": "stream",
     "text": [
      "Line 6 - Value of c is 0\n"
     ]
    }
   ],
   "source": [
    "#c **= a print \"Line 6 - Value of c is \", c\n",
    "a=21\n",
    "c=0\n",
    "c**=a\n",
    "print(\"Line 6 - Value of c is\", c) "
   ]
  },
  {
   "cell_type": "code",
   "execution_count": 12,
   "metadata": {},
   "outputs": [
    {
     "name": "stdout",
     "output_type": "stream",
     "text": [
      "Line 7 - Value of c is 0\n"
     ]
    }
   ],
   "source": [
    "#c //= a print \"Line 7 - Value of c is \", c\n",
    "a=21\n",
    "c=0\n",
    "c//=a\n",
    "print(\"Line 7 - Value of c is\", c) "
   ]
  },
  {
   "cell_type": "code",
   "execution_count": null,
   "metadata": {},
   "outputs": [],
   "source": []
  }
 ],
 "metadata": {
  "kernelspec": {
   "display_name": "Python 3",
   "language": "python",
   "name": "python3"
  },
  "language_info": {
   "codemirror_mode": {
    "name": "ipython",
    "version": 3
   },
   "file_extension": ".py",
   "mimetype": "text/x-python",
   "name": "python",
   "nbconvert_exporter": "python",
   "pygments_lexer": "ipython3",
   "version": "3.7.6"
  }
 },
 "nbformat": 4,
 "nbformat_minor": 2
}
